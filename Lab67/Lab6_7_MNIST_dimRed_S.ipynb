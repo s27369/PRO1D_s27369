{
  "cells": [
    {
      "cell_type": "markdown",
      "metadata": {
        "id": "hIo0gy4j0hjO"
      },
      "source": [
        "###__Dane do analizy__:  MNIST.csv (Modified National Institute of Standards and Technology database)\n",
        "\n",
        "###__Cel badania__:  Analiza algorytmu selekcji cech PCA . Wizualizacja danych  za pomocą PCA i t-SNE\n",
        "\n",
        "###__Klasyfikator__:   Decision tree, kNN, Logistic Regression  +PCA\n",
        "\n",
        "####__Zadanie 1__: Ładowanie zbioru treningowego, testowego, wstępna analiza  i dodawanie nazw dla kolumn\n",
        "* Dodać nazwy kolumn: <span style='color:red'>  class, pixel1, pixel2,...pixel 784 </span>\n",
        "* Wyznaczyć liczbę rekordów, liczbę cech w zbiorze treningowym i testowym.\n",
        "* Wyznaczyć rozkład kategorii (w procentach).\n",
        "* Narysować wykres słupkowy rozkładu kategorii.\n",
        "\n",
        "#####__Zadanie 2__:  Analiza głównych składowych <i>PCA</i>\n",
        "\n",
        "__Wskazówka__: <span style='color:red'>  from sklearn.decomposition import PCA </span>\n",
        "##### __Zadanie 2.1__:  Zmienić parametru algorytmu, żeby otrzymać procent wyjaśnionej wariancji wynosi 0.90. Ile wynosi liczba wymiarów?\n",
        "__Wskazówka: Zmienić parametry__\n",
        "* Ustawić pca.explained_variance_ratio_\n",
        "#####__Zadanie 2.2__ :Ile wynosi stopień wyjaśnionej wariancji, jeśli liczna wymiarów należy do przedziału od  [10, 150]?.\n",
        "\n",
        "####__Zadanie 3__ : Wyznaczyć liczbę wymiarów PCA, żeby stopień wyjaśnionej wariancji = 0.9. Wykonać redukcję danych. Przekształcić dane treningowe i testowe na nową przestrzenią.\n",
        "\n",
        "\n",
        "####__Zadanie 4__ : Wizualizować  dane oryginalne i dane skompresowane.\n",
        "\n",
        "##### __Zadanie__ : Trenować klasyfikator  <i> DT </i>  z optymalizacją parametrów na danych oryginalnych.  Wyświetlić czas\n",
        "__Wskazówka__: <span style='color:red'>   from sklearn.tree import DecisionTreeClassifier </span>\n",
        "\n",
        "####__Zadanie 6__ : Trenować klasyfikator  <i> DT </i>  z optymalizacją parametrów na danych skompresowanych.  Wyświetlić czas.\n",
        "\n",
        "####__Zadanie 7__: Trenować klasyfikator  <i> Logistic Regression </i>  z optymalizacją parametrów na danych oryginalnych.  Wyświetlić czas i skuteczność modelu.\n",
        "__Wskazówka__: <span style='color:red'>  from sklearn.linear_model import LogisticRegression  </span>\n",
        "\n",
        "####__Zadanie 8__: Trenować klasyfikator  <i>k-NN </i>  z optymalizacją parametrów na danych oryginalnych i zredukowanych.  Wyświetlić czas i skuteczność modelu.\n",
        "\n",
        "####__Zadanie 9__: Wizualizować dane na dwóch wymiarach wyznaczonych przez t-NSE i PCA (liczba wymiarów =2).\n",
        "\n",
        "####__Zadanie 10__: Napisać podsumowanie\n",
        "\n",
        "1. Jaki procent wyjaśnialności wariancji trzeba wybrać, żeby jakość klasyfikatora na danych skompresowanych jest przybliżona do modelu budowanego na danych oryginalnych?  \n",
        "klasyfikator jest najlepszy i z jakimi parametrami?\n",
        "2. Wśród algorytmów DT, KNN i Logistic Regression, który model zyskuje najwięcej czasu na danych zredukowanych?\n",
        "3. Która wizualizacja jest lepsza, za pomocą t-SNE (*t-distributed Stochastic Neighbor Embedding*), czy PCA?\n"
      ]
    },
    {
      "cell_type": "markdown",
      "metadata": {
        "id": "wY_zCKBc0hjP"
      },
      "source": [
        "# Zadanie 1: Importowanie danych"
      ]
    },
    {
      "cell_type": "code",
      "execution_count": null,
      "metadata": {
        "id": "29cAdshE0hjP",
        "outputId": "56c02094-a07c-4194-fb99-d13febdf23d0"
      },
      "outputs": [
        {
          "name": "stdout",
          "output_type": "stream",
          "text": [
            "(60000, 785)\n"
          ]
        },
        {
          "data": {
            "text/html": [
              "<div>\n",
              "<style scoped>\n",
              "    .dataframe tbody tr th:only-of-type {\n",
              "        vertical-align: middle;\n",
              "    }\n",
              "\n",
              "    .dataframe tbody tr th {\n",
              "        vertical-align: top;\n",
              "    }\n",
              "\n",
              "    .dataframe thead th {\n",
              "        text-align: right;\n",
              "    }\n",
              "</style>\n",
              "<table border=\"1\" class=\"dataframe\">\n",
              "  <thead>\n",
              "    <tr style=\"text-align: right;\">\n",
              "      <th></th>\n",
              "      <th>class</th>\n",
              "      <th>pixel1</th>\n",
              "      <th>pixel2</th>\n",
              "      <th>pixel3</th>\n",
              "      <th>pixel4</th>\n",
              "      <th>pixel5</th>\n",
              "      <th>pixel6</th>\n",
              "      <th>pixel7</th>\n",
              "      <th>pixel8</th>\n",
              "      <th>pixel9</th>\n",
              "      <th>...</th>\n",
              "      <th>pixel775</th>\n",
              "      <th>pixel776</th>\n",
              "      <th>pixel777</th>\n",
              "      <th>pixel778</th>\n",
              "      <th>pixel779</th>\n",
              "      <th>pixel780</th>\n",
              "      <th>pixel781</th>\n",
              "      <th>pixel782</th>\n",
              "      <th>pixel783</th>\n",
              "      <th>pixel784</th>\n",
              "    </tr>\n",
              "  </thead>\n",
              "  <tbody>\n",
              "    <tr>\n",
              "      <th>0</th>\n",
              "      <td>5</td>\n",
              "      <td>0</td>\n",
              "      <td>0</td>\n",
              "      <td>0</td>\n",
              "      <td>0</td>\n",
              "      <td>0</td>\n",
              "      <td>0</td>\n",
              "      <td>0</td>\n",
              "      <td>0</td>\n",
              "      <td>0</td>\n",
              "      <td>...</td>\n",
              "      <td>0</td>\n",
              "      <td>0</td>\n",
              "      <td>0</td>\n",
              "      <td>0</td>\n",
              "      <td>0</td>\n",
              "      <td>0</td>\n",
              "      <td>0</td>\n",
              "      <td>0</td>\n",
              "      <td>0</td>\n",
              "      <td>0</td>\n",
              "    </tr>\n",
              "    <tr>\n",
              "      <th>1</th>\n",
              "      <td>0</td>\n",
              "      <td>0</td>\n",
              "      <td>0</td>\n",
              "      <td>0</td>\n",
              "      <td>0</td>\n",
              "      <td>0</td>\n",
              "      <td>0</td>\n",
              "      <td>0</td>\n",
              "      <td>0</td>\n",
              "      <td>0</td>\n",
              "      <td>...</td>\n",
              "      <td>0</td>\n",
              "      <td>0</td>\n",
              "      <td>0</td>\n",
              "      <td>0</td>\n",
              "      <td>0</td>\n",
              "      <td>0</td>\n",
              "      <td>0</td>\n",
              "      <td>0</td>\n",
              "      <td>0</td>\n",
              "      <td>0</td>\n",
              "    </tr>\n",
              "    <tr>\n",
              "      <th>2</th>\n",
              "      <td>4</td>\n",
              "      <td>0</td>\n",
              "      <td>0</td>\n",
              "      <td>0</td>\n",
              "      <td>0</td>\n",
              "      <td>0</td>\n",
              "      <td>0</td>\n",
              "      <td>0</td>\n",
              "      <td>0</td>\n",
              "      <td>0</td>\n",
              "      <td>...</td>\n",
              "      <td>0</td>\n",
              "      <td>0</td>\n",
              "      <td>0</td>\n",
              "      <td>0</td>\n",
              "      <td>0</td>\n",
              "      <td>0</td>\n",
              "      <td>0</td>\n",
              "      <td>0</td>\n",
              "      <td>0</td>\n",
              "      <td>0</td>\n",
              "    </tr>\n",
              "    <tr>\n",
              "      <th>3</th>\n",
              "      <td>1</td>\n",
              "      <td>0</td>\n",
              "      <td>0</td>\n",
              "      <td>0</td>\n",
              "      <td>0</td>\n",
              "      <td>0</td>\n",
              "      <td>0</td>\n",
              "      <td>0</td>\n",
              "      <td>0</td>\n",
              "      <td>0</td>\n",
              "      <td>...</td>\n",
              "      <td>0</td>\n",
              "      <td>0</td>\n",
              "      <td>0</td>\n",
              "      <td>0</td>\n",
              "      <td>0</td>\n",
              "      <td>0</td>\n",
              "      <td>0</td>\n",
              "      <td>0</td>\n",
              "      <td>0</td>\n",
              "      <td>0</td>\n",
              "    </tr>\n",
              "    <tr>\n",
              "      <th>4</th>\n",
              "      <td>9</td>\n",
              "      <td>0</td>\n",
              "      <td>0</td>\n",
              "      <td>0</td>\n",
              "      <td>0</td>\n",
              "      <td>0</td>\n",
              "      <td>0</td>\n",
              "      <td>0</td>\n",
              "      <td>0</td>\n",
              "      <td>0</td>\n",
              "      <td>...</td>\n",
              "      <td>0</td>\n",
              "      <td>0</td>\n",
              "      <td>0</td>\n",
              "      <td>0</td>\n",
              "      <td>0</td>\n",
              "      <td>0</td>\n",
              "      <td>0</td>\n",
              "      <td>0</td>\n",
              "      <td>0</td>\n",
              "      <td>0</td>\n",
              "    </tr>\n",
              "    <tr>\n",
              "      <th>5</th>\n",
              "      <td>2</td>\n",
              "      <td>0</td>\n",
              "      <td>0</td>\n",
              "      <td>0</td>\n",
              "      <td>0</td>\n",
              "      <td>0</td>\n",
              "      <td>0</td>\n",
              "      <td>0</td>\n",
              "      <td>0</td>\n",
              "      <td>0</td>\n",
              "      <td>...</td>\n",
              "      <td>0</td>\n",
              "      <td>0</td>\n",
              "      <td>0</td>\n",
              "      <td>0</td>\n",
              "      <td>0</td>\n",
              "      <td>0</td>\n",
              "      <td>0</td>\n",
              "      <td>0</td>\n",
              "      <td>0</td>\n",
              "      <td>0</td>\n",
              "    </tr>\n",
              "    <tr>\n",
              "      <th>6</th>\n",
              "      <td>1</td>\n",
              "      <td>0</td>\n",
              "      <td>0</td>\n",
              "      <td>0</td>\n",
              "      <td>0</td>\n",
              "      <td>0</td>\n",
              "      <td>0</td>\n",
              "      <td>0</td>\n",
              "      <td>0</td>\n",
              "      <td>0</td>\n",
              "      <td>...</td>\n",
              "      <td>0</td>\n",
              "      <td>0</td>\n",
              "      <td>0</td>\n",
              "      <td>0</td>\n",
              "      <td>0</td>\n",
              "      <td>0</td>\n",
              "      <td>0</td>\n",
              "      <td>0</td>\n",
              "      <td>0</td>\n",
              "      <td>0</td>\n",
              "    </tr>\n",
              "    <tr>\n",
              "      <th>7</th>\n",
              "      <td>3</td>\n",
              "      <td>0</td>\n",
              "      <td>0</td>\n",
              "      <td>0</td>\n",
              "      <td>0</td>\n",
              "      <td>0</td>\n",
              "      <td>0</td>\n",
              "      <td>0</td>\n",
              "      <td>0</td>\n",
              "      <td>0</td>\n",
              "      <td>...</td>\n",
              "      <td>0</td>\n",
              "      <td>0</td>\n",
              "      <td>0</td>\n",
              "      <td>0</td>\n",
              "      <td>0</td>\n",
              "      <td>0</td>\n",
              "      <td>0</td>\n",
              "      <td>0</td>\n",
              "      <td>0</td>\n",
              "      <td>0</td>\n",
              "    </tr>\n",
              "    <tr>\n",
              "      <th>8</th>\n",
              "      <td>1</td>\n",
              "      <td>0</td>\n",
              "      <td>0</td>\n",
              "      <td>0</td>\n",
              "      <td>0</td>\n",
              "      <td>0</td>\n",
              "      <td>0</td>\n",
              "      <td>0</td>\n",
              "      <td>0</td>\n",
              "      <td>0</td>\n",
              "      <td>...</td>\n",
              "      <td>0</td>\n",
              "      <td>0</td>\n",
              "      <td>0</td>\n",
              "      <td>0</td>\n",
              "      <td>0</td>\n",
              "      <td>0</td>\n",
              "      <td>0</td>\n",
              "      <td>0</td>\n",
              "      <td>0</td>\n",
              "      <td>0</td>\n",
              "    </tr>\n",
              "    <tr>\n",
              "      <th>9</th>\n",
              "      <td>4</td>\n",
              "      <td>0</td>\n",
              "      <td>0</td>\n",
              "      <td>0</td>\n",
              "      <td>0</td>\n",
              "      <td>0</td>\n",
              "      <td>0</td>\n",
              "      <td>0</td>\n",
              "      <td>0</td>\n",
              "      <td>0</td>\n",
              "      <td>...</td>\n",
              "      <td>0</td>\n",
              "      <td>0</td>\n",
              "      <td>0</td>\n",
              "      <td>0</td>\n",
              "      <td>0</td>\n",
              "      <td>0</td>\n",
              "      <td>0</td>\n",
              "      <td>0</td>\n",
              "      <td>0</td>\n",
              "      <td>0</td>\n",
              "    </tr>\n",
              "  </tbody>\n",
              "</table>\n",
              "<p>10 rows × 785 columns</p>\n",
              "</div>"
            ],
            "text/plain": [
              "   class  pixel1  pixel2  pixel3  pixel4  pixel5  pixel6  pixel7  pixel8  \\\n",
              "0      5       0       0       0       0       0       0       0       0   \n",
              "1      0       0       0       0       0       0       0       0       0   \n",
              "2      4       0       0       0       0       0       0       0       0   \n",
              "3      1       0       0       0       0       0       0       0       0   \n",
              "4      9       0       0       0       0       0       0       0       0   \n",
              "5      2       0       0       0       0       0       0       0       0   \n",
              "6      1       0       0       0       0       0       0       0       0   \n",
              "7      3       0       0       0       0       0       0       0       0   \n",
              "8      1       0       0       0       0       0       0       0       0   \n",
              "9      4       0       0       0       0       0       0       0       0   \n",
              "\n",
              "   pixel9  ...  pixel775  pixel776  pixel777  pixel778  pixel779  pixel780  \\\n",
              "0       0  ...         0         0         0         0         0         0   \n",
              "1       0  ...         0         0         0         0         0         0   \n",
              "2       0  ...         0         0         0         0         0         0   \n",
              "3       0  ...         0         0         0         0         0         0   \n",
              "4       0  ...         0         0         0         0         0         0   \n",
              "5       0  ...         0         0         0         0         0         0   \n",
              "6       0  ...         0         0         0         0         0         0   \n",
              "7       0  ...         0         0         0         0         0         0   \n",
              "8       0  ...         0         0         0         0         0         0   \n",
              "9       0  ...         0         0         0         0         0         0   \n",
              "\n",
              "   pixel781  pixel782  pixel783  pixel784  \n",
              "0         0         0         0         0  \n",
              "1         0         0         0         0  \n",
              "2         0         0         0         0  \n",
              "3         0         0         0         0  \n",
              "4         0         0         0         0  \n",
              "5         0         0         0         0  \n",
              "6         0         0         0         0  \n",
              "7         0         0         0         0  \n",
              "8         0         0         0         0  \n",
              "9         0         0         0         0  \n",
              "\n",
              "[10 rows x 785 columns]"
            ]
          },
          "execution_count": 122,
          "metadata": {},
          "output_type": "execute_result"
        }
      ],
      "source": [
        "#Importowanie danych z lokalnego dysku\n",
        "\n",
        "import pandas as pd\n",
        "\n",
        "# Twój kod\n",
        "\n",
        "\n",
        "print(df_train.shape)\n",
        "df_train.head(10)"
      ]
    },
    {
      "cell_type": "code",
      "execution_count": null,
      "metadata": {
        "id": "iNDYyf0x0hjQ",
        "outputId": "a68604f0-94ab-4f1f-9e79-d9d306140da4"
      },
      "outputs": [
        {
          "name": "stdout",
          "output_type": "stream",
          "text": [
            "(60000, 784)\n",
            "(10000, 784)\n"
          ]
        }
      ],
      "source": [
        "X_train = df_train.iloc[:,1:785]\n",
        "y_train = df_train.iloc[:,0]\n",
        "X_test = df_test.iloc[:,1:785]\n",
        "y_test = df_test.iloc[:,0]\n",
        "\n",
        "print(X_train.shape)\n",
        "print(X_test.shape)"
      ]
    },
    {
      "cell_type": "markdown",
      "metadata": {
        "id": "zU6dxs0B0hjR"
      },
      "source": [
        "# Zadanie 2: Algorytm PCA. Dobrać parametr"
      ]
    },
    {
      "cell_type": "code",
      "execution_count": null,
      "metadata": {
        "id": "6gDb2Ib-0hjR"
      },
      "outputs": [],
      "source": [
        "from sklearn.decomposition import PCA\n",
        "import numpy as np\n",
        "pca = PCA()\n",
        "pca.fit(X_train)\n",
        "cumsum = np.cumsum(pca.explained_variance_ratio_)\n",
        "d = np.argmax(cumsum >= 0.5) + 1"
      ]
    },
    {
      "cell_type": "code",
      "execution_count": null,
      "metadata": {
        "id": "OQjtEqH40hjR"
      },
      "outputs": [],
      "source": [
        "pca = PCA(n_components=11)\n",
        "X_reduced = pca.fit_transform(X_train)"
      ]
    },
    {
      "cell_type": "code",
      "execution_count": null,
      "metadata": {
        "id": "HXxk9zHE0hjR",
        "outputId": "738b3adc-a07e-4d7b-cc8c-1ab0d94de212"
      },
      "outputs": [
        {
          "data": {
            "text/plain": [
              "11"
            ]
          },
          "execution_count": 114,
          "metadata": {},
          "output_type": "execute_result"
        }
      ],
      "source": [
        "pca.n_components_"
      ]
    },
    {
      "cell_type": "code",
      "execution_count": null,
      "metadata": {
        "id": "a3s05wo-0hjS",
        "outputId": "e2d78f55-0d9e-43a9-c35d-441b5aefea80"
      },
      "outputs": [
        {
          "data": {
            "text/plain": [
              "0.5092410383737432"
            ]
          },
          "execution_count": 115,
          "metadata": {},
          "output_type": "execute_result"
        }
      ],
      "source": [
        "np.sum(pca.explained_variance_ratio_)"
      ]
    },
    {
      "cell_type": "code",
      "execution_count": null,
      "metadata": {
        "id": "KgwcnPB10hjS"
      },
      "outputs": [],
      "source": [
        "# Zadanie 3: Przekształcić dane treningowe i testowe na nową przestrzeń"
      ]
    },
    {
      "cell_type": "code",
      "execution_count": null,
      "metadata": {
        "id": "Ud_czYzV0hjS"
      },
      "outputs": [],
      "source": [
        "pca = PCA(n_components = 11)\n",
        "X_reduced_np = pca.fit_transform(X_train)\n",
        "X_recovered_np = pca.inverse_transform(X_reduced)\n",
        "X_reduced = pd.DataFrame(X_reduced_np)\n",
        "X_recovered = pd.DataFrame(X_recovered_np)"
      ]
    },
    {
      "cell_type": "markdown",
      "metadata": {
        "id": "OF16CxNW0hjS"
      },
      "source": [
        "# Zadanie 4: Wizualizacja danych oryginalnych"
      ]
    },
    {
      "cell_type": "code",
      "execution_count": null,
      "metadata": {
        "id": "hIxxBWMm0hjT",
        "outputId": "e4c5c6fa-d8c2-4264-8e47-78ff602e7840"
      },
      "outputs": [
        {
          "data": {
            "image/png": "[encoded data removed]",
            "text/plain": [
              "<Figure size 640x480 with 8 Axes>"
            ]
          },
          "metadata": {},
          "output_type": "display_data"
        }
      ],
      "source": [
        "import matplotlib.pyplot as plt\n",
        "import numpy as np\n",
        "for i in range(8):\n",
        "     # define subplot\n",
        "    plt.subplot(240+1+i)\n",
        "    # plot raw pixel data\n",
        "    ith_image = X_train.iloc[i,:]\n",
        "    ith_image_arr = ith_image.to_numpy()\n",
        "    ith_image= ith_image_arr.reshape(28,28)\n",
        "    plt.imshow(ith_image, cmap=plt.get_cmap('gray'))\n",
        "# show the figure\n",
        "plt.show()"
      ]
    },
    {
      "cell_type": "markdown",
      "metadata": {
        "id": "PN7RsWPT0hjT"
      },
      "source": [
        "# Zadanie 4: Wizualizacja danych zredukowanych"
      ]
    },
    {
      "cell_type": "code",
      "execution_count": null,
      "metadata": {
        "id": "yWeqQVeu0hjT",
        "outputId": "828852b8-4db7-41c5-d0ef-69445eeef84c"
      },
      "outputs": [
        {
          "data": {
            "image/png": "[encoded data removed]",
            "text/plain": [
              "<Figure size 640x480 with 8 Axes>"
            ]
          },
          "metadata": {},
          "output_type": "display_data"
        }
      ],
      "source": [
        "# Twój kod"
      ]
    },
    {
      "cell_type": "markdown",
      "metadata": {
        "collapsed": true,
        "id": "FsoQ6doJ0hjT"
      },
      "source": [
        "# Zadanie 5:   Model DT na danych oryginalnych"
      ]
    },
    {
      "cell_type": "markdown",
      "metadata": {
        "id": "x0--k9Wt0hjT"
      },
      "source": [
        "The MNIST dataset was loaded earlier."
      ]
    },
    {
      "cell_type": "code",
      "execution_count": null,
      "metadata": {
        "id": "_Umj3R0f0hjT",
        "outputId": "a0c45002-c9aa-49f0-907a-5252d1970911"
      },
      "outputs": [
        {
          "name": "stdout",
          "output_type": "stream",
          "text": [
            "Training took 13.96s\n"
          ]
        }
      ],
      "source": [
        "from sklearn.tree import DecisionTreeClassifier\n",
        "#from sklearn.model_selection import cross_val_score\n",
        "#from sklearn.model_selection import StratifiedKFold\n",
        "from sklearn.metrics import classification_report\n",
        "from sklearn.metrics import confusion_matrix\n",
        "from sklearn.metrics import accuracy_score\n",
        "#from sklearn.metrics import f1_score\n",
        "\n",
        "# Twój kod\n",
        "\n",
        "t0 = time.time()\n",
        "tree_clf.fit(X_train, y_train)\n",
        "t1 = time.time()\n",
        "print(\"Training took {:.2f}s\".format(t1 - t0))"
      ]
    },
    {
      "cell_type": "code",
      "execution_count": null,
      "metadata": {
        "id": "DW1tRP5k0hjU"
      },
      "outputs": [],
      "source": [
        "from sklearn.metrics import accuracy_score\n",
        "\n",
        "# Twój kod: Accuracy"
      ]
    },
    {
      "cell_type": "markdown",
      "metadata": {
        "id": "LPUUQgTB0hjU"
      },
      "source": [
        "# Zadanie 6:   Model DT na danych zredukowanych"
      ]
    },
    {
      "cell_type": "code",
      "execution_count": null,
      "metadata": {
        "id": "qCXafa1r0hjU"
      },
      "outputs": [],
      "source": [
        "from sklearn.decomposition import PCA\n",
        "\n",
        "# Twój kod: Tworzyć zredukowany zbiór z wyaśnioną wariancją = 0.9\n"
      ]
    },
    {
      "cell_type": "code",
      "execution_count": null,
      "metadata": {
        "id": "gIG8-VTR0hjU"
      },
      "outputs": [],
      "source": [
        "tree_clf2 = DecisionTreeClassifier(n_estimators=10, random_state=42)\n",
        "t0 = time.time()\n",
        "tree_clf2.fit(X_train_reduced, y_train)\n",
        "t1 = time.time()"
      ]
    },
    {
      "cell_type": "code",
      "execution_count": null,
      "metadata": {
        "id": "Ti8AUX5Y0hjU",
        "outputId": "8336fca9-c1e5-47ef-cd4f-9626939c540e"
      },
      "outputs": [
        {
          "name": "stdout",
          "output_type": "stream",
          "text": [
            "Training took 42.66s\n"
          ]
        }
      ],
      "source": [
        "print(\"Training took {:.2f}s\".format(t1 - t0))"
      ]
    },
    {
      "cell_type": "code",
      "execution_count": null,
      "metadata": {
        "id": "zywkIrOJ0hjU",
        "outputId": "72a96e21-57d8-49f0-d7b5-0f855a3b4f53"
      },
      "outputs": [
        {
          "data": {
            "text/plain": [
              "0.9009"
            ]
          },
          "execution_count": 136,
          "metadata": {},
          "output_type": "execute_result"
        }
      ],
      "source": [
        "X_test_reduced = pca.transform(X_test)\n",
        "\n",
        "y_pred = rnd_clf2.predict(X_test_reduced)\n",
        "accuracy_score(y_test, y_pred)"
      ]
    },
    {
      "cell_type": "markdown",
      "metadata": {
        "id": "ysw3jFf-0hjU"
      },
      "source": [
        "# Zadanie 7:  Regresja logistyczna na danych oryginalnych"
      ]
    },
    {
      "cell_type": "code",
      "execution_count": null,
      "metadata": {
        "id": "jp7ZAP2s0hjU",
        "outputId": "13dfcd10-36c8-4d12-bee7-553731dcb7ba"
      },
      "outputs": [
        {
          "name": "stderr",
          "output_type": "stream",
          "text": [
            "C:\\Users\\sinhh\\anaconda3\\Lib\\site-packages\\sklearn\\linear_model\\_logistic.py:460: ConvergenceWarning: lbfgs failed to converge (status=1):\n",
            "STOP: TOTAL NO. of ITERATIONS REACHED LIMIT.\n",
            "\n",
            "Increase the number of iterations (max_iter) or scale the data as shown in:\n",
            "    https://scikit-learn.org/stable/modules/preprocessing.html\n",
            "Please also refer to the documentation for alternative solver options:\n",
            "    https://scikit-learn.org/stable/modules/linear_model.html#logistic-regression\n",
            "  n_iter_i = _check_optimize_result(\n"
          ]
        }
      ],
      "source": [
        "from sklearn.linear_model import LogisticRegression\n",
        "import warnings\n",
        "warnings.filterwarnings(\"ignore\")\n",
        "\n",
        "log_clf = LogisticRegression(multi_class=\"multinomial\", solver=\"lbfgs\", random_state=42)\n",
        "t0 = time.time()\n",
        "log_clf.fit(X_train, y_train)\n",
        "t1 = time.time()"
      ]
    },
    {
      "cell_type": "code",
      "execution_count": null,
      "metadata": {
        "id": "f1LTiNUd0hjU",
        "outputId": "160bf0c1-814a-4224-ba91-429b3a238d9c"
      },
      "outputs": [
        {
          "name": "stdout",
          "output_type": "stream",
          "text": [
            "Training took 7.59s\n"
          ]
        }
      ],
      "source": [
        "print(\"Training took {:.2f}s\".format(t1 - t0))"
      ]
    },
    {
      "cell_type": "code",
      "execution_count": null,
      "metadata": {
        "id": "RVyeaCNc0hjV",
        "outputId": "1e852523-4430-4406-f986-f1193aa1a208"
      },
      "outputs": [
        {
          "data": {
            "text/plain": [
              "0.9255"
            ]
          },
          "execution_count": 57,
          "metadata": {},
          "output_type": "execute_result"
        }
      ],
      "source": [
        "y_pred = log_clf.predict(X_test)\n",
        "accuracy_score(y_test, y_pred)"
      ]
    },
    {
      "cell_type": "code",
      "execution_count": null,
      "metadata": {
        "id": "e2cSPm2F0hjV",
        "outputId": "447ef994-39d4-4316-a389-8f38dcfe6074"
      },
      "outputs": [
        {
          "name": "stderr",
          "output_type": "stream",
          "text": [
            "C:\\Users\\sinhh\\anaconda3\\Lib\\site-packages\\sklearn\\linear_model\\_logistic.py:460: ConvergenceWarning: lbfgs failed to converge (status=1):\n",
            "STOP: TOTAL NO. of ITERATIONS REACHED LIMIT.\n",
            "\n",
            "Increase the number of iterations (max_iter) or scale the data as shown in:\n",
            "    https://scikit-learn.org/stable/modules/preprocessing.html\n",
            "Please also refer to the documentation for alternative solver options:\n",
            "    https://scikit-learn.org/stable/modules/linear_model.html#logistic-regression\n",
            "  n_iter_i = _check_optimize_result(\n"
          ]
        }
      ],
      "source": [
        "log_clf2 = LogisticRegression(multi_class=\"multinomial\", solver=\"lbfgs\", random_state=42)\n",
        "t0 = time.time()\n",
        "log_clf2.fit(X_train_reduced, y_train)\n",
        "t1 = time.time()"
      ]
    },
    {
      "cell_type": "code",
      "execution_count": null,
      "metadata": {
        "id": "wpKMWX3C0hjV",
        "outputId": "99f75cf9-8a70-42dc-9ac7-c15dc51c6f6a"
      },
      "outputs": [
        {
          "name": "stdout",
          "output_type": "stream",
          "text": [
            "Training took 2.90s\n"
          ]
        }
      ],
      "source": [
        "print(\"Training took {:.2f}s\".format(t1 - t0))"
      ]
    },
    {
      "cell_type": "code",
      "execution_count": null,
      "metadata": {
        "id": "LfLvDEA50hjV",
        "outputId": "bb625347-b563-481d-9bd0-0b8e1acbede2"
      },
      "outputs": [
        {
          "data": {
            "text/plain": [
              "0.9201"
            ]
          },
          "execution_count": 60,
          "metadata": {},
          "output_type": "execute_result"
        }
      ],
      "source": [
        "y_pred = log_clf2.predict(X_test_reduced)\n",
        "accuracy_score(y_test, y_pred)"
      ]
    },
    {
      "cell_type": "markdown",
      "metadata": {
        "id": "nBW0U0Gh0hjV"
      },
      "source": [
        "# Zadanie 8:  Algorytm kNN na danych oryginalnych i zredukowanych"
      ]
    },
    {
      "cell_type": "code",
      "execution_count": null,
      "metadata": {
        "id": "iMpFv3N60hjV"
      },
      "outputs": [],
      "source": [
        "# Twójkod"
      ]
    },
    {
      "cell_type": "code",
      "source": [],
      "metadata": {
        "id": "2yMHgGFH3EOO"
      },
      "execution_count": null,
      "outputs": []
    },
    {
      "cell_type": "markdown",
      "source": [
        "#Zadanie 9: Wizualizacja za pomocą t_SNE i PCA"
      ],
      "metadata": {
        "id": "UTvxVs-g1-0s"
      }
    },
    {
      "cell_type": "code",
      "source": [
        "# ZE względu na długo czas obliczenia. Do wizualicji wylosować 6000 rekordów\n",
        "np.random.seed(42)\n",
        "\n",
        "m = 6000\n",
        "idx = np.random.permutation(60000)[:m]\n",
        "\n",
        "X = X_train.to_numpy()[idx]\n",
        "y = y_train.to_numpy()[idx]"
      ],
      "metadata": {
        "id": "F-j_P9kF3STu"
      },
      "execution_count": null,
      "outputs": []
    },
    {
      "cell_type": "code",
      "source": [
        "from sklearn.manifold import TSNE\n",
        "\n",
        "tsne = TSNE(n_components=2, random_state=42)\n",
        "X_reduced = tsne.fit_transform(X)"
      ],
      "metadata": {
        "id": "vVJA5ihV2J2M"
      },
      "execution_count": null,
      "outputs": []
    },
    {
      "cell_type": "code",
      "source": [
        "plt.figure(figsize=(13,10))\n",
        "plt.scatter(X_reduced[:, 0], X_reduced[:, 1], c=y, cmap=\"jet\")\n",
        "plt.axis('off')\n",
        "plt.colorbar()\n",
        "plt.show()"
      ],
      "metadata": {
        "id": "tq7o4Ob93xMr"
      },
      "execution_count": null,
      "outputs": []
    },
    {
      "cell_type": "code",
      "source": [
        "from sklearn.decomposition import PCA\n",
        "\n",
        "# Wizualizacja za pomocą PCA. Twój kod"
      ],
      "metadata": {
        "id": "fGOTEVh04ByF"
      },
      "execution_count": null,
      "outputs": []
    }
  ],
  "metadata": {
    "kernelspec": {
      "display_name": "Python 3 (ipykernel)",
      "language": "python",
      "name": "python3"
    },
    "language_info": {
      "codemirror_mode": {
        "name": "ipython",
        "version": 3
      },
      "file_extension": ".py",
      "mimetype": "text/x-python",
      "name": "python",
      "nbconvert_exporter": "python",
      "pygments_lexer": "ipython3",
      "version": "3.11.4"
    },
    "colab": {
      "provenance": []
    }
  },
  "nbformat": 4,
  "nbformat_minor": 0
}